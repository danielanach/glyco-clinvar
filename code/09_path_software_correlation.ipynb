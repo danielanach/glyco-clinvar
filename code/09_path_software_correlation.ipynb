{
 "cells": [
  {
   "cell_type": "code",
   "execution_count": 1,
   "metadata": {},
   "outputs": [],
   "source": [
    "import matplotlib.pyplot as plt\n",
    "import numpy as np\n",
    "import pandas as pd\n",
    "import scipy\n",
    "import seaborn as sns\n",
    "import statsmodels.formula.api as smf\n",
    "import statsmodels.api as sm\n",
    "import random\n"
   ]
  },
  {
   "cell_type": "markdown",
   "metadata": {},
   "source": [
    "## Getting glyco impact for all amino acid substitutions"
   ]
  },
  {
   "cell_type": "code",
   "execution_count": 2,
   "metadata": {},
   "outputs": [],
   "source": [
    "gi = pd.read_csv('../data/glyco_protein_impact_within_6.csv')"
   ]
  },
  {
   "cell_type": "code",
   "execution_count": 3,
   "metadata": {
    "scrolled": true
   },
   "outputs": [],
   "source": [
    "gi_copy = gi.copy()"
   ]
  },
  {
   "cell_type": "code",
   "execution_count": 4,
   "metadata": {},
   "outputs": [],
   "source": [
    "gi_copy['substitution'] = ['=>'.join([g.split('=>')[-1],g.split('=>')[0]])for g in gi_copy['substitution']]"
   ]
  },
  {
   "cell_type": "code",
   "execution_count": 5,
   "metadata": {},
   "outputs": [],
   "source": [
    "gi = pd.concat([gi_copy,gi])"
   ]
  },
  {
   "cell_type": "markdown",
   "metadata": {},
   "source": [
    "## Getting rank normalized functional impact scores across many different algorithms as well as the corresponding glycodistances of those mutations"
   ]
  },
  {
   "cell_type": "code",
   "execution_count": 6,
   "metadata": {},
   "outputs": [
    {
     "name": "stderr",
     "output_type": "stream",
     "text": [
      "/Users/d/work/conda/lib/python3.7/site-packages/IPython/core/interactiveshell.py:3051: DtypeWarning: Columns (7,8,19,27,34,37,38) have mixed types. Specify dtype option on import or set low_memory=False.\n",
      "  interactivity=interactivity, compiler=compiler, result=result)\n",
      "/Users/d/work/conda/lib/python3.7/site-packages/numpy/lib/arraysetops.py:568: FutureWarning: elementwise comparison failed; returning scalar instead, but in the future will perform elementwise comparison\n",
      "  mask |= (ar1 == a)\n"
     ]
    }
   ],
   "source": [
    "df = pd.read_csv('../data/glycoproteins_distances_with_pathsoftware.txt',\n",
    "                 sep='\\t',\n",
    "                 index_col=0)"
   ]
  },
  {
   "cell_type": "code",
   "execution_count": 7,
   "metadata": {},
   "outputs": [],
   "source": [
    "df = df.dropna(subset=['glyco_distance'])"
   ]
  },
  {
   "cell_type": "code",
   "execution_count": 8,
   "metadata": {},
   "outputs": [
    {
     "data": {
      "text/plain": [
       "(3549910, 38)"
      ]
     },
     "execution_count": 8,
     "metadata": {},
     "output_type": "execute_result"
    }
   ],
   "source": [
    "df.shape"
   ]
  },
  {
   "cell_type": "markdown",
   "metadata": {},
   "source": [
    "# Calculating correlation between differences betwen every pair of software functional prediction score and glycodistance of that mutation "
   ]
  },
  {
   "cell_type": "code",
   "execution_count": 9,
   "metadata": {},
   "outputs": [],
   "source": [
    "software = df.columns[df.columns.str.contains('rank')].to_list()"
   ]
  },
  {
   "cell_type": "code",
   "execution_count": 25,
   "metadata": {
    "scrolled": false
   },
   "outputs": [
    {
     "name": "stderr",
     "output_type": "stream",
     "text": [
      "/Users/d/work/conda/lib/python3.7/site-packages/scipy/stats/stats.py:248: RuntimeWarning: The input array could not be properly checked for nan values. nan values will be ignored.\n",
      "  \"values. nan values will be ignored.\", RuntimeWarning)\n",
      "/Users/d/work/conda/lib/python3.7/site-packages/numpy/lib/function_base.py:2534: RuntimeWarning: invalid value encountered in true_divide\n",
      "  c /= stddev[:, None]\n",
      "/Users/d/work/conda/lib/python3.7/site-packages/numpy/lib/function_base.py:2535: RuntimeWarning: invalid value encountered in true_divide\n",
      "  c /= stddev[None, :]\n",
      "/Users/d/work/conda/lib/python3.7/site-packages/scipy/stats/_distn_infrastructure.py:877: RuntimeWarning: invalid value encountered in greater\n",
      "  return (self.a < x) & (x < self.b)\n",
      "/Users/d/work/conda/lib/python3.7/site-packages/scipy/stats/_distn_infrastructure.py:877: RuntimeWarning: invalid value encountered in less\n",
      "  return (self.a < x) & (x < self.b)\n",
      "/Users/d/work/conda/lib/python3.7/site-packages/scipy/stats/_distn_infrastructure.py:1831: RuntimeWarning: invalid value encountered in less_equal\n",
      "  cond2 = cond0 & (x <= self.a)\n",
      "/Users/d/work/conda/lib/python3.7/site-packages/pandas/core/ops.py:1649: FutureWarning: elementwise comparison failed; returning scalar instead, but in the future will perform elementwise comparison\n",
      "  result = method(y)\n"
     ]
    }
   ],
   "source": [
    "corr_dct = {}\n",
    "random_dct = {}\n",
    "\n",
    "for s1 in software:\n",
    "    corr_dct[s1] = {}\n",
    "    random_dct[s1] = {}\n",
    "    \n",
    "    for s2 in software: \n",
    "        pair_soft = df[(df[s1] != '.') & (df[s2] != '.')]\n",
    "        pair_soft = pair_soft[[s1,s2,'glyco_distance']]\n",
    "        pair_soft = pair_soft.dropna(subset=[s1,s2])\n",
    "        \n",
    "        # Computing correlation between software \n",
    "        # I am using .iloc to get the columns due to case of when s1 == s2\n",
    "        soft_corr = scipy.stats.spearmanr(pair_soft.iloc[:,0].to_list(),pair_soft.iloc[:,1].to_list())\n",
    "        corr_dct[s1][s2] = [soft_corr[0],soft_corr[1]]\n",
    "        \n",
    "        # Getting difference between predictions\n",
    "        diff = pair_soft.iloc[:,1].astype(float) - pair_soft.iloc[:,0].astype(float)\n",
    "        \n",
    "        # Computing correlation between the difference in software and the glycodistance \n",
    "        diff_corr = scipy.stats.spearmanr(diff,pair_soft['glyco_distance'].to_list())\n",
    "        corr_dct[s1][s2].extend([diff_corr[0],diff_corr[1]])\n",
    "        \n",
    "        # Shuffling glycosylation distances\n",
    "        random_glyco = random.sample(pair_soft['glyco_distance'].to_list(),k=pair_soft.shape[0])\n",
    "        \n",
    "        # Computing shuffled correlation b/w difference in software and glycodistance\n",
    "        random_results = scipy.stats.spearmanr(diff,random_glyco)\n",
    "        \n",
    "        random_dct[s1][s2] = [random_results[0],random_results[1]]"
   ]
  },
  {
   "cell_type": "markdown",
   "metadata": {},
   "source": [
    "## Saving dataframes to files"
   ]
  },
  {
   "cell_type": "markdown",
   "metadata": {},
   "source": [
    "### Real data"
   ]
  },
  {
   "cell_type": "code",
   "execution_count": 29,
   "metadata": {},
   "outputs": [],
   "source": [
    "correlation_dcts = {'corr_rho':{},\n",
    "                    'corr_p':{},\n",
    "                    'diff_rho':{},\n",
    "                    'diff_p':{}}\n",
    "\n",
    "assign = [('corr_rho',0),\n",
    "        ('corr_p',1),\n",
    "        ('diff_rho',2),\n",
    "        ('diff_p',3)]\n",
    "\n",
    "for a in assign:\n",
    "    for s1 in corr_dct.keys():\n",
    "        correlation_dcts[a[0]][s1] = {}\n",
    "        correlation_dcts[a[0]][s1] = {s2:corr_dct[s1][s2][a[1]] for s2 in corr_dct[s1].keys()}\n",
    "\n",
    "for df_type in correlation_dcts.keys():\n",
    "    df = pd.DataFrame.from_dict(correlation_dcts[df_type])\n",
    "    df.to_csv('../data/{}_df.csv'.format(df_type))"
   ]
  },
  {
   "cell_type": "markdown",
   "metadata": {},
   "source": [
    "### Null data"
   ]
  },
  {
   "cell_type": "code",
   "execution_count": 48,
   "metadata": {},
   "outputs": [],
   "source": [
    "correlation_dcts = {'rand_rho':{},\n",
    "                    'rand_p':{}}\n",
    "\n",
    "assign = [('rand_rho',0),\n",
    "        ('rand_p',1)]\n",
    "\n",
    "for a in assign:\n",
    "    for s1 in corr_dct.keys():\n",
    "        correlation_dcts[a[0]][s1] = {}\n",
    "        correlation_dcts[a[0]][s1] = {s2:random_dct[s1][s2][a[1]] for s2 in random_dct[s1].keys()}\n",
    "\n",
    "for df_type in correlation_dcts.keys():\n",
    "    df = pd.DataFrame.from_dict(correlation_dcts[df_type])\n",
    "    df.to_csv('../data/{}_df.csv'.format(df_type))"
   ]
  }
 ],
 "metadata": {
  "kernelspec": {
   "display_name": "Python 3",
   "language": "python",
   "name": "python3"
  },
  "language_info": {
   "codemirror_mode": {
    "name": "ipython",
    "version": 3
   },
   "file_extension": ".py",
   "mimetype": "text/x-python",
   "name": "python",
   "nbconvert_exporter": "python",
   "pygments_lexer": "ipython3",
   "version": "3.7.3"
  }
 },
 "nbformat": 4,
 "nbformat_minor": 4
}
