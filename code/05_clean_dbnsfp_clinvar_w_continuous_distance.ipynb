{
 "cells": [
  {
   "cell_type": "code",
   "execution_count": 1,
   "metadata": {},
   "outputs": [],
   "source": [
    "import matplotlib.pyplot as plt\n",
    "import pandas as pd\n",
    "import scipy\n",
    "import seaborn as sns\n",
    "import numpy as np"
   ]
  },
  {
   "cell_type": "code",
   "execution_count": 2,
   "metadata": {},
   "outputs": [
    {
     "name": "stderr",
     "output_type": "stream",
     "text": [
      "/Users/d/work/conda/lib/python3.7/site-packages/IPython/core/interactiveshell.py:3051: DtypeWarning: Columns (1,8,9,10,11,67,68,69,70,71,72,73,79,80,81,82,83,84,85,86,87,88,89,90,91,92,93,94,95,96,97,107,108) have mixed types. Specify dtype option on import or set low_memory=False.\n",
      "  interactivity=interactivity, compiler=compiler, result=result)\n"
     ]
    }
   ],
   "source": [
    "db = pd.read_csv('../data/dbNSFP3.2.clinvar_clean.txt',\n",
    "                  sep='\\t')"
   ]
  },
  {
   "cell_type": "code",
   "execution_count": 3,
   "metadata": {},
   "outputs": [],
   "source": [
    "db['aa_change'] = db['aaref'] + '=>' + db['aaalt']"
   ]
  },
  {
   "cell_type": "markdown",
   "metadata": {},
   "source": [
    "## Create simple table for just proteins with glycosylation sites with distance annotation"
   ]
  },
  {
   "cell_type": "code",
   "execution_count": 4,
   "metadata": {},
   "outputs": [],
   "source": [
    "p_d = pd.read_csv('../data/protein_aa_distance.txt',\n",
    "                       sep='\\t',\n",
    "                       header=None,index_col=0)"
   ]
  },
  {
   "cell_type": "code",
   "execution_count": 5,
   "metadata": {},
   "outputs": [],
   "source": [
    "p_d.columns = ['protein','aa','distance_to_feature']"
   ]
  },
  {
   "cell_type": "code",
   "execution_count": 6,
   "metadata": {
    "scrolled": true
   },
   "outputs": [
    {
     "data": {
      "text/html": [
       "<div>\n",
       "<style scoped>\n",
       "    .dataframe tbody tr th:only-of-type {\n",
       "        vertical-align: middle;\n",
       "    }\n",
       "\n",
       "    .dataframe tbody tr th {\n",
       "        vertical-align: top;\n",
       "    }\n",
       "\n",
       "    .dataframe thead th {\n",
       "        text-align: right;\n",
       "    }\n",
       "</style>\n",
       "<table border=\"1\" class=\"dataframe\">\n",
       "  <thead>\n",
       "    <tr style=\"text-align: right;\">\n",
       "      <th></th>\n",
       "      <th>aapos</th>\n",
       "      <th>Uniprot_acc_Polyphen2</th>\n",
       "      <th>clinvar_pathogenic</th>\n",
       "      <th>aa_change</th>\n",
       "    </tr>\n",
       "  </thead>\n",
       "  <tbody>\n",
       "    <tr>\n",
       "      <th>3</th>\n",
       "      <td>215;353</td>\n",
       "      <td>O00468</td>\n",
       "      <td>likely benign</td>\n",
       "      <td>Q=&gt;R</td>\n",
       "    </tr>\n",
       "    <tr>\n",
       "      <th>4</th>\n",
       "      <td>590;728</td>\n",
       "      <td>O00468</td>\n",
       "      <td>benign</td>\n",
       "      <td>E=&gt;V</td>\n",
       "    </tr>\n",
       "    <tr>\n",
       "      <th>5</th>\n",
       "      <td>950;1088</td>\n",
       "      <td>O00468</td>\n",
       "      <td>likely benign</td>\n",
       "      <td>L=&gt;F</td>\n",
       "    </tr>\n",
       "    <tr>\n",
       "      <th>6</th>\n",
       "      <td>997;1135</td>\n",
       "      <td>O00468</td>\n",
       "      <td>likely benign</td>\n",
       "      <td>Q=&gt;R</td>\n",
       "    </tr>\n",
       "    <tr>\n",
       "      <th>7</th>\n",
       "      <td>1151;1289</td>\n",
       "      <td>O00468</td>\n",
       "      <td>likely benign</td>\n",
       "      <td>P=&gt;L</td>\n",
       "    </tr>\n",
       "  </tbody>\n",
       "</table>\n",
       "</div>"
      ],
      "text/plain": [
       "       aapos Uniprot_acc_Polyphen2 clinvar_pathogenic aa_change\n",
       "3    215;353                O00468      likely benign      Q=>R\n",
       "4    590;728                O00468             benign      E=>V\n",
       "5   950;1088                O00468      likely benign      L=>F\n",
       "6   997;1135                O00468      likely benign      Q=>R\n",
       "7  1151;1289                O00468      likely benign      P=>L"
      ]
     },
     "execution_count": 6,
     "metadata": {},
     "output_type": "execute_result"
    }
   ],
   "source": [
    "db = db[['aapos','Uniprot_acc_Polyphen2','clinvar_pathogenic','aa_change']]\n",
    "db = db[db['Uniprot_acc_Polyphen2'] != '.']\n",
    "db.head()"
   ]
  },
  {
   "cell_type": "code",
   "execution_count": 7,
   "metadata": {},
   "outputs": [],
   "source": [
    "aas = []\n",
    "proteins = []\n",
    "clinvars = []\n",
    "aa_changes = []\n",
    "for i in db.index:\n",
    "    one_var = db.loc[i]\n",
    "    aa_list = one_var['aapos'].split(';')\n",
    "    protein_list = one_var['Uniprot_acc_Polyphen2'].split(';')\n",
    "    path = one_var['clinvar_pathogenic']\n",
    "    aa_change = one_var['aa_change']\n",
    "    \n",
    "    for p in protein_list:\n",
    "        for aa in aa_list:\n",
    "            aas.append(aa)\n",
    "            proteins.append(p)\n",
    "            clinvars.append(path)\n",
    "            aa_changes.append(aa_change)"
   ]
  },
  {
   "cell_type": "code",
   "execution_count": 8,
   "metadata": {},
   "outputs": [
    {
     "name": "stderr",
     "output_type": "stream",
     "text": [
      "/Users/d/work/conda/lib/python3.7/site-packages/numpy/core/numeric.py:2339: FutureWarning: elementwise comparison failed; returning scalar instead, but in the future will perform elementwise comparison\n",
      "  return bool(asarray(a1 == a2).all())\n"
     ]
    }
   ],
   "source": [
    "flat_db = pd.DataFrame([pd.Series(aas,dtype=int),\n",
    "                  pd.Series(proteins),\n",
    "                  pd.Series(clinvars),\n",
    "                  pd.Series(aa_changes)])\n",
    "flat_db = flat_db.transpose()\n",
    "flat_db.columns = ['aa','protein','clinvar_path','aa_change']"
   ]
  },
  {
   "cell_type": "code",
   "execution_count": 9,
   "metadata": {},
   "outputs": [
    {
     "name": "stdout",
     "output_type": "stream",
     "text": [
      "(295521, 4)\n",
      "Dropping duplicates\n",
      "(156796, 4)\n"
     ]
    }
   ],
   "source": [
    "print(flat_db.shape)\n",
    "print('Dropping duplicates')\n",
    "flat_db =  flat_db.drop_duplicates(subset=['aa','protein'])\n",
    "print(flat_db.shape)"
   ]
  },
  {
   "cell_type": "code",
   "execution_count": 10,
   "metadata": {},
   "outputs": [
    {
     "data": {
      "text/html": [
       "<div>\n",
       "<style scoped>\n",
       "    .dataframe tbody tr th:only-of-type {\n",
       "        vertical-align: middle;\n",
       "    }\n",
       "\n",
       "    .dataframe tbody tr th {\n",
       "        vertical-align: top;\n",
       "    }\n",
       "\n",
       "    .dataframe thead th {\n",
       "        text-align: right;\n",
       "    }\n",
       "</style>\n",
       "<table border=\"1\" class=\"dataframe\">\n",
       "  <thead>\n",
       "    <tr style=\"text-align: right;\">\n",
       "      <th></th>\n",
       "      <th>protein</th>\n",
       "      <th>aa</th>\n",
       "      <th>distance_to_feature</th>\n",
       "    </tr>\n",
       "    <tr>\n",
       "      <th>0</th>\n",
       "      <th></th>\n",
       "      <th></th>\n",
       "      <th></th>\n",
       "    </tr>\n",
       "  </thead>\n",
       "  <tbody>\n",
       "    <tr>\n",
       "      <th>402407</th>\n",
       "      <td>P05107</td>\n",
       "      <td>28</td>\n",
       "      <td>0.0</td>\n",
       "    </tr>\n",
       "    <tr>\n",
       "      <th>820774</th>\n",
       "      <td>O14656</td>\n",
       "      <td>143</td>\n",
       "      <td>0.0</td>\n",
       "    </tr>\n",
       "    <tr>\n",
       "      <th>1068490</th>\n",
       "      <td>Q92820</td>\n",
       "      <td>139</td>\n",
       "      <td>0.0</td>\n",
       "    </tr>\n",
       "    <tr>\n",
       "      <th>196505</th>\n",
       "      <td>Q9NY72</td>\n",
       "      <td>97</td>\n",
       "      <td>0.0</td>\n",
       "    </tr>\n",
       "    <tr>\n",
       "      <th>1159219</th>\n",
       "      <td>O15118</td>\n",
       "      <td>916</td>\n",
       "      <td>0.0</td>\n",
       "    </tr>\n",
       "  </tbody>\n",
       "</table>\n",
       "</div>"
      ],
      "text/plain": [
       "        protein   aa  distance_to_feature\n",
       "0                                        \n",
       "402407   P05107   28                  0.0\n",
       "820774   O14656  143                  0.0\n",
       "1068490  Q92820  139                  0.0\n",
       "196505   Q9NY72   97                  0.0\n",
       "1159219  O15118  916                  0.0"
      ]
     },
     "execution_count": 10,
     "metadata": {},
     "output_type": "execute_result"
    }
   ],
   "source": [
    "p_d.head()"
   ]
  },
  {
   "cell_type": "code",
   "execution_count": 11,
   "metadata": {
    "scrolled": true
   },
   "outputs": [
    {
     "data": {
      "text/html": [
       "<div>\n",
       "<style scoped>\n",
       "    .dataframe tbody tr th:only-of-type {\n",
       "        vertical-align: middle;\n",
       "    }\n",
       "\n",
       "    .dataframe tbody tr th {\n",
       "        vertical-align: top;\n",
       "    }\n",
       "\n",
       "    .dataframe thead th {\n",
       "        text-align: right;\n",
       "    }\n",
       "</style>\n",
       "<table border=\"1\" class=\"dataframe\">\n",
       "  <thead>\n",
       "    <tr style=\"text-align: right;\">\n",
       "      <th></th>\n",
       "      <th>aa</th>\n",
       "      <th>protein</th>\n",
       "      <th>clinvar_path</th>\n",
       "      <th>aa_change</th>\n",
       "    </tr>\n",
       "  </thead>\n",
       "  <tbody>\n",
       "    <tr>\n",
       "      <th>0</th>\n",
       "      <td>215</td>\n",
       "      <td>O00468</td>\n",
       "      <td>likely benign</td>\n",
       "      <td>Q=&gt;R</td>\n",
       "    </tr>\n",
       "    <tr>\n",
       "      <th>1</th>\n",
       "      <td>353</td>\n",
       "      <td>O00468</td>\n",
       "      <td>likely benign</td>\n",
       "      <td>Q=&gt;R</td>\n",
       "    </tr>\n",
       "    <tr>\n",
       "      <th>2</th>\n",
       "      <td>590</td>\n",
       "      <td>O00468</td>\n",
       "      <td>benign</td>\n",
       "      <td>E=&gt;V</td>\n",
       "    </tr>\n",
       "    <tr>\n",
       "      <th>3</th>\n",
       "      <td>728</td>\n",
       "      <td>O00468</td>\n",
       "      <td>benign</td>\n",
       "      <td>E=&gt;V</td>\n",
       "    </tr>\n",
       "    <tr>\n",
       "      <th>4</th>\n",
       "      <td>950</td>\n",
       "      <td>O00468</td>\n",
       "      <td>likely benign</td>\n",
       "      <td>L=&gt;F</td>\n",
       "    </tr>\n",
       "  </tbody>\n",
       "</table>\n",
       "</div>"
      ],
      "text/plain": [
       "    aa protein   clinvar_path aa_change\n",
       "0  215  O00468  likely benign      Q=>R\n",
       "1  353  O00468  likely benign      Q=>R\n",
       "2  590  O00468         benign      E=>V\n",
       "3  728  O00468         benign      E=>V\n",
       "4  950  O00468  likely benign      L=>F"
      ]
     },
     "execution_count": 11,
     "metadata": {},
     "output_type": "execute_result"
    }
   ],
   "source": [
    "flat_db.head()"
   ]
  },
  {
   "cell_type": "code",
   "execution_count": 12,
   "metadata": {},
   "outputs": [],
   "source": [
    "merged = flat_db.merge(p_d,on=['aa','protein'],how='outer')"
   ]
  },
  {
   "cell_type": "code",
   "execution_count": 13,
   "metadata": {
    "scrolled": true
   },
   "outputs": [
    {
     "name": "stdout",
     "output_type": "stream",
     "text": [
      "(543599, 5)\n",
      "dropping no clinvar proteins\n",
      "(156796, 5)\n"
     ]
    }
   ],
   "source": [
    "print(merged.shape)\n",
    "print('dropping no clinvar proteins')\n",
    "merged = merged.dropna(subset=['clinvar_path'])\n",
    "print(merged.shape)"
   ]
  },
  {
   "cell_type": "markdown",
   "metadata": {},
   "source": [
    "# Dropping any clinvar variants that are not in glycosylated proteins"
   ]
  },
  {
   "cell_type": "code",
   "execution_count": 22,
   "metadata": {},
   "outputs": [],
   "source": [
    "g_proteins = list(p_d['protein'].unique())"
   ]
  },
  {
   "cell_type": "code",
   "execution_count": 25,
   "metadata": {},
   "outputs": [
    {
     "name": "stdout",
     "output_type": "stream",
     "text": [
      "(5037, 5)\n"
     ]
    }
   ],
   "source": [
    "merged = merged[merged['protein'].isin(g_proteins)]\n",
    "print(merged.shape)"
   ]
  },
  {
   "cell_type": "markdown",
   "metadata": {},
   "source": [
    "# Any variants that do not have feature distances are given a psuedo distance"
   ]
  },
  {
   "cell_type": "code",
   "execution_count": 27,
   "metadata": {},
   "outputs": [],
   "source": [
    "high_distance = 150"
   ]
  },
  {
   "cell_type": "code",
   "execution_count": 28,
   "metadata": {
    "scrolled": true
   },
   "outputs": [],
   "source": [
    "merged['distance_to_feature'] = merged['distance_to_feature'].fillna(high_distance)"
   ]
  },
  {
   "cell_type": "markdown",
   "metadata": {},
   "source": [
    "## Filtering sites where distance to feature == 0, which is presumably the glycosylation site"
   ]
  },
  {
   "cell_type": "code",
   "execution_count": 29,
   "metadata": {},
   "outputs": [
    {
     "data": {
      "text/plain": [
       "(5018, 5)"
      ]
     },
     "execution_count": 29,
     "metadata": {},
     "output_type": "execute_result"
    }
   ],
   "source": [
    "merged = merged[merged['distance_to_feature'] > 0]\n",
    "merged.shape"
   ]
  },
  {
   "cell_type": "code",
   "execution_count": 30,
   "metadata": {},
   "outputs": [],
   "source": [
    "merged.to_csv('../data/clinvar_glycoproteins_distances.txt',sep='\\t')"
   ]
  },
  {
   "cell_type": "code",
   "execution_count": null,
   "metadata": {},
   "outputs": [],
   "source": []
  }
 ],
 "metadata": {
  "kernelspec": {
   "display_name": "Python 3",
   "language": "python",
   "name": "python3"
  },
  "language_info": {
   "codemirror_mode": {
    "name": "ipython",
    "version": 3
   },
   "file_extension": ".py",
   "mimetype": "text/x-python",
   "name": "python",
   "nbconvert_exporter": "python",
   "pygments_lexer": "ipython3",
   "version": "3.7.4"
  }
 },
 "nbformat": 4,
 "nbformat_minor": 4
}
