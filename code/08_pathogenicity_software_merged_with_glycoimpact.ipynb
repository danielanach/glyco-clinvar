{
 "cells": [
  {
   "cell_type": "code",
   "execution_count": 1,
   "metadata": {},
   "outputs": [],
   "source": [
    "import pandas as pd"
   ]
  },
  {
   "cell_type": "markdown",
   "metadata": {},
   "source": [
    "## Reading in dbNSFP data"
   ]
  },
  {
   "cell_type": "code",
   "execution_count": 2,
   "metadata": {},
   "outputs": [
    {
     "name": "stderr",
     "output_type": "stream",
     "text": [
      "/Users/d/work/conda/lib/python3.7/site-packages/IPython/core/interactiveshell.py:3051: DtypeWarning: Columns (0,4,7,8,9,10,11,12,13,14,15,16,17,20,21,22,24,25,26,27,28,33) have mixed types. Specify dtype option on import or set low_memory=False.\n",
      "  interactivity=interactivity, compiler=compiler, result=result)\n"
     ]
    }
   ],
   "source": [
    "db = pd.read_csv('../data/dbNSFP3.2a_gprot_simple_aa_uniq_w_header.txt',\n",
    "                 sep='\\t',\n",
    "                 index_col=False)"
   ]
  },
  {
   "cell_type": "code",
   "execution_count": 3,
   "metadata": {},
   "outputs": [
    {
     "name": "stdout",
     "output_type": "stream",
     "text": [
      "(6178371, 34)\n"
     ]
    }
   ],
   "source": [
    "print(db.shape)"
   ]
  },
  {
   "cell_type": "code",
   "execution_count": 4,
   "metadata": {
    "scrolled": true
   },
   "outputs": [],
   "source": [
    "software = db[db.columns[db.columns.str.contains('rank')]].columns.to_list()"
   ]
  },
  {
   "cell_type": "code",
   "execution_count": 5,
   "metadata": {},
   "outputs": [],
   "source": [
    "db['aa_change'] = db['aaref'] + '=>' + db['aaalt']"
   ]
  },
  {
   "cell_type": "code",
   "execution_count": 6,
   "metadata": {
    "scrolled": true
   },
   "outputs": [
    {
     "data": {
      "text/html": [
       "<div>\n",
       "<style scoped>\n",
       "    .dataframe tbody tr th:only-of-type {\n",
       "        vertical-align: middle;\n",
       "    }\n",
       "\n",
       "    .dataframe tbody tr th {\n",
       "        vertical-align: top;\n",
       "    }\n",
       "\n",
       "    .dataframe thead th {\n",
       "        text-align: right;\n",
       "    }\n",
       "</style>\n",
       "<table border=\"1\" class=\"dataframe\">\n",
       "  <thead>\n",
       "    <tr style=\"text-align: right;\">\n",
       "      <th></th>\n",
       "      <th>aapos</th>\n",
       "      <th>aa_change</th>\n",
       "      <th>Uniprot_acc_Polyphen2</th>\n",
       "      <th>clinvar_clnsig</th>\n",
       "      <th>SIFT_converted_rankscore</th>\n",
       "      <th>Polyphen2_HDIV_rankscore</th>\n",
       "      <th>Polyphen2_HVAR_rankscore</th>\n",
       "      <th>LRT_converted_rankscore</th>\n",
       "      <th>MutationTaster_converted_rankscore</th>\n",
       "      <th>MutationAssessor_score_rankscore</th>\n",
       "      <th>...</th>\n",
       "      <th>integrated_fitCons_score_rankscore</th>\n",
       "      <th>GM12878_fitCons_score_rankscore</th>\n",
       "      <th>H1-hESC_fitCons_score_rankscore</th>\n",
       "      <th>HUVEC_fitCons_score_rankscore</th>\n",
       "      <th>GERP++_RS_rankscore</th>\n",
       "      <th>phyloP100way_vertebrate_rankscore</th>\n",
       "      <th>phyloP20way_mammalian_rankscore</th>\n",
       "      <th>phastCons100way_vertebrate_rankscore</th>\n",
       "      <th>phastCons20way_mammalian_rankscore</th>\n",
       "      <th>SiPhy_29way_logOdds_rankscore</th>\n",
       "    </tr>\n",
       "  </thead>\n",
       "  <tbody>\n",
       "    <tr>\n",
       "      <th>0</th>\n",
       "      <td>201;129</td>\n",
       "      <td>E=&gt;D</td>\n",
       "      <td>Q9Y5U5</td>\n",
       "      <td>.</td>\n",
       "      <td>0.16119</td>\n",
       "      <td>0.13521</td>\n",
       "      <td>0.11238</td>\n",
       "      <td>.</td>\n",
       "      <td>0.81033</td>\n",
       "      <td>.</td>\n",
       "      <td>...</td>\n",
       "      <td>0.37169</td>\n",
       "      <td>0.55475</td>\n",
       "      <td>0.27661</td>\n",
       "      <td>0.37612</td>\n",
       "      <td>0.21098</td>\n",
       "      <td>0.11537</td>\n",
       "      <td>0.15898</td>\n",
       "      <td>0.06329</td>\n",
       "      <td>0.16931</td>\n",
       "      <td>0.22632</td>\n",
       "    </tr>\n",
       "    <tr>\n",
       "      <th>2</th>\n",
       "      <td>201;129</td>\n",
       "      <td>E=&gt;V</td>\n",
       "      <td>Q9Y5U5</td>\n",
       "      <td>.</td>\n",
       "      <td>0.3164</td>\n",
       "      <td>0.51906</td>\n",
       "      <td>0.47406</td>\n",
       "      <td>.</td>\n",
       "      <td>0.81033</td>\n",
       "      <td>.</td>\n",
       "      <td>...</td>\n",
       "      <td>0.37169</td>\n",
       "      <td>0.55475</td>\n",
       "      <td>0.27661</td>\n",
       "      <td>0.37612</td>\n",
       "      <td>0.19134</td>\n",
       "      <td>0.09480</td>\n",
       "      <td>0.21895</td>\n",
       "      <td>0.06329</td>\n",
       "      <td>0.16870</td>\n",
       "      <td>0.16314</td>\n",
       "    </tr>\n",
       "    <tr>\n",
       "      <th>3</th>\n",
       "      <td>201;129</td>\n",
       "      <td>E=&gt;G</td>\n",
       "      <td>Q9Y5U5</td>\n",
       "      <td>.</td>\n",
       "      <td>0.17853</td>\n",
       "      <td>0.06737</td>\n",
       "      <td>0.07978</td>\n",
       "      <td>.</td>\n",
       "      <td>0.81033</td>\n",
       "      <td>.</td>\n",
       "      <td>...</td>\n",
       "      <td>0.37169</td>\n",
       "      <td>0.55475</td>\n",
       "      <td>0.27661</td>\n",
       "      <td>0.37612</td>\n",
       "      <td>0.19134</td>\n",
       "      <td>0.09480</td>\n",
       "      <td>0.21895</td>\n",
       "      <td>0.06329</td>\n",
       "      <td>0.16870</td>\n",
       "      <td>0.16314</td>\n",
       "    </tr>\n",
       "    <tr>\n",
       "      <th>4</th>\n",
       "      <td>201;129</td>\n",
       "      <td>E=&gt;A</td>\n",
       "      <td>Q9Y5U5</td>\n",
       "      <td>.</td>\n",
       "      <td>0.17269</td>\n",
       "      <td>0.36774</td>\n",
       "      <td>0.30254</td>\n",
       "      <td>.</td>\n",
       "      <td>0.81033</td>\n",
       "      <td>.</td>\n",
       "      <td>...</td>\n",
       "      <td>0.37169</td>\n",
       "      <td>0.55475</td>\n",
       "      <td>0.27661</td>\n",
       "      <td>0.37612</td>\n",
       "      <td>0.19134</td>\n",
       "      <td>0.09480</td>\n",
       "      <td>0.21895</td>\n",
       "      <td>0.06329</td>\n",
       "      <td>0.16870</td>\n",
       "      <td>0.16314</td>\n",
       "    </tr>\n",
       "    <tr>\n",
       "      <th>5</th>\n",
       "      <td>201;129</td>\n",
       "      <td>E=&gt;Q</td>\n",
       "      <td>Q9Y5U5</td>\n",
       "      <td>.</td>\n",
       "      <td>0.16226</td>\n",
       "      <td>0.51906</td>\n",
       "      <td>0.47406</td>\n",
       "      <td>.</td>\n",
       "      <td>0.81033</td>\n",
       "      <td>0.37555</td>\n",
       "      <td>...</td>\n",
       "      <td>0.28343</td>\n",
       "      <td>0.40457</td>\n",
       "      <td>0.27661</td>\n",
       "      <td>0.20234</td>\n",
       "      <td>0.37198</td>\n",
       "      <td>0.26938</td>\n",
       "      <td>0.48983</td>\n",
       "      <td>0.27262</td>\n",
       "      <td>0.19595</td>\n",
       "      <td>0.57778</td>\n",
       "    </tr>\n",
       "  </tbody>\n",
       "</table>\n",
       "<p>5 rows × 31 columns</p>\n",
       "</div>"
      ],
      "text/plain": [
       "     aapos aa_change Uniprot_acc_Polyphen2 clinvar_clnsig  \\\n",
       "0  201;129      E=>D                Q9Y5U5              .   \n",
       "2  201;129      E=>V                Q9Y5U5              .   \n",
       "3  201;129      E=>G                Q9Y5U5              .   \n",
       "4  201;129      E=>A                Q9Y5U5              .   \n",
       "5  201;129      E=>Q                Q9Y5U5              .   \n",
       "\n",
       "  SIFT_converted_rankscore Polyphen2_HDIV_rankscore Polyphen2_HVAR_rankscore  \\\n",
       "0                  0.16119                  0.13521                  0.11238   \n",
       "2                   0.3164                  0.51906                  0.47406   \n",
       "3                  0.17853                  0.06737                  0.07978   \n",
       "4                  0.17269                  0.36774                  0.30254   \n",
       "5                  0.16226                  0.51906                  0.47406   \n",
       "\n",
       "  LRT_converted_rankscore MutationTaster_converted_rankscore  \\\n",
       "0                       .                            0.81033   \n",
       "2                       .                            0.81033   \n",
       "3                       .                            0.81033   \n",
       "4                       .                            0.81033   \n",
       "5                       .                            0.81033   \n",
       "\n",
       "  MutationAssessor_score_rankscore  ... integrated_fitCons_score_rankscore  \\\n",
       "0                                .  ...                            0.37169   \n",
       "2                                .  ...                            0.37169   \n",
       "3                                .  ...                            0.37169   \n",
       "4                                .  ...                            0.37169   \n",
       "5                          0.37555  ...                            0.28343   \n",
       "\n",
       "  GM12878_fitCons_score_rankscore H1-hESC_fitCons_score_rankscore  \\\n",
       "0                         0.55475                         0.27661   \n",
       "2                         0.55475                         0.27661   \n",
       "3                         0.55475                         0.27661   \n",
       "4                         0.55475                         0.27661   \n",
       "5                         0.40457                         0.27661   \n",
       "\n",
       "  HUVEC_fitCons_score_rankscore GERP++_RS_rankscore  \\\n",
       "0                       0.37612             0.21098   \n",
       "2                       0.37612             0.19134   \n",
       "3                       0.37612             0.19134   \n",
       "4                       0.37612             0.19134   \n",
       "5                       0.20234             0.37198   \n",
       "\n",
       "   phyloP100way_vertebrate_rankscore  phyloP20way_mammalian_rankscore  \\\n",
       "0                            0.11537                          0.15898   \n",
       "2                            0.09480                          0.21895   \n",
       "3                            0.09480                          0.21895   \n",
       "4                            0.09480                          0.21895   \n",
       "5                            0.26938                          0.48983   \n",
       "\n",
       "  phastCons100way_vertebrate_rankscore phastCons20way_mammalian_rankscore  \\\n",
       "0                              0.06329                            0.16931   \n",
       "2                              0.06329                            0.16870   \n",
       "3                              0.06329                            0.16870   \n",
       "4                              0.06329                            0.16870   \n",
       "5                              0.27262                            0.19595   \n",
       "\n",
       "  SiPhy_29way_logOdds_rankscore  \n",
       "0                       0.22632  \n",
       "2                       0.16314  \n",
       "3                       0.16314  \n",
       "4                       0.16314  \n",
       "5                       0.57778  \n",
       "\n",
       "[5 rows x 31 columns]"
      ]
     },
     "execution_count": 6,
     "metadata": {},
     "output_type": "execute_result"
    }
   ],
   "source": [
    "db = db[['aapos','aa_change','Uniprot_acc_Polyphen2','clinvar_clnsig'] + software]\n",
    "db = db.drop_duplicates(subset=['aapos','aa_change','Uniprot_acc_Polyphen2'])\n",
    "db.head()"
   ]
  },
  {
   "cell_type": "code",
   "execution_count": 7,
   "metadata": {},
   "outputs": [
    {
     "name": "stdout",
     "output_type": "stream",
     "text": [
      "(5326058, 31)\n"
     ]
    }
   ],
   "source": [
    "print(db.shape)"
   ]
  },
  {
   "cell_type": "markdown",
   "metadata": {},
   "source": [
    "## Create simple table for just proteins with glycosylation sites with distance annotation"
   ]
  },
  {
   "cell_type": "code",
   "execution_count": 8,
   "metadata": {},
   "outputs": [],
   "source": [
    "p_d = pd.read_csv('../data/protein_aa_distance.txt',\n",
    "                       sep='\\t',\n",
    "                       header=None,index_col=0)"
   ]
  },
  {
   "cell_type": "code",
   "execution_count": 9,
   "metadata": {},
   "outputs": [],
   "source": [
    "p_d.columns = ['proteins','aa','distance_to_feature']"
   ]
  },
  {
   "cell_type": "markdown",
   "metadata": {},
   "source": [
    "## Going through the clinvar database and matching amino acids\n"
   ]
  },
  {
   "cell_type": "code",
   "execution_count": 10,
   "metadata": {
    "scrolled": true
   },
   "outputs": [],
   "source": [
    "pd_dict = {'aa':[],\n",
    "           'proteins':[],\n",
    "           'clinvar_path':[],\n",
    "           'aa_change':[],\n",
    "           'clinvar_index':[]}\n",
    "           \n",
    "for s in software:\n",
    "    pd_dict[s] = []\n",
    "\n",
    "for i in db.index:\n",
    "    one_var = db.loc[i]\n",
    "    aa_list = one_var['aapos']\n",
    "    if not isinstance(aa_list,int):\n",
    "        aa_list = one_var['aapos'].split(';')\n",
    "    else:\n",
    "        aa_list = [one_var['aapos']]\n",
    "    protein_list = one_var['Uniprot_acc_Polyphen2'].split(';')\n",
    "    path = one_var['clinvar_clnsig']\n",
    "    aa_change = one_var['aa_change']\n",
    "    for p in protein_list:\n",
    "        for aa in aa_list:\n",
    "            pd_dict['aa'].append(aa)\n",
    "            pd_dict['proteins'].append(p)\n",
    "            pd_dict['clinvar_path'].append(path)\n",
    "            pd_dict['aa_change'].append(aa_change)\n",
    "            pd_dict['clinvar_index'].append(i)\n",
    "            for s in software:\n",
    "                pd_dict[s].append(one_var[s])"
   ]
  },
  {
   "cell_type": "code",
   "execution_count": 11,
   "metadata": {},
   "outputs": [],
   "source": [
    "flat_db = pd.DataFrame.from_dict(pd_dict)\n",
    "flat_db['aa'] = flat_db['aa'].astype(int)"
   ]
  },
  {
   "cell_type": "code",
   "execution_count": 12,
   "metadata": {
    "scrolled": true
   },
   "outputs": [
    {
     "name": "stdout",
     "output_type": "stream",
     "text": [
      "(32789539, 32)\n",
      "Dropping duplicates\n",
      "(21791618, 32)\n"
     ]
    }
   ],
   "source": [
    "print(flat_db.shape)\n",
    "print('Dropping duplicates')\n",
    "flat_db =  flat_db.drop_duplicates(subset=['aa','proteins','aa_change'])\n",
    "print(flat_db.shape)"
   ]
  },
  {
   "cell_type": "code",
   "execution_count": 13,
   "metadata": {},
   "outputs": [
    {
     "data": {
      "text/html": [
       "<div>\n",
       "<style scoped>\n",
       "    .dataframe tbody tr th:only-of-type {\n",
       "        vertical-align: middle;\n",
       "    }\n",
       "\n",
       "    .dataframe tbody tr th {\n",
       "        vertical-align: top;\n",
       "    }\n",
       "\n",
       "    .dataframe thead th {\n",
       "        text-align: right;\n",
       "    }\n",
       "</style>\n",
       "<table border=\"1\" class=\"dataframe\">\n",
       "  <thead>\n",
       "    <tr style=\"text-align: right;\">\n",
       "      <th></th>\n",
       "      <th>proteins</th>\n",
       "      <th>aa</th>\n",
       "      <th>distance_to_feature</th>\n",
       "    </tr>\n",
       "    <tr>\n",
       "      <th>0</th>\n",
       "      <th></th>\n",
       "      <th></th>\n",
       "      <th></th>\n",
       "    </tr>\n",
       "  </thead>\n",
       "  <tbody>\n",
       "    <tr>\n",
       "      <th>262180</th>\n",
       "      <td>P16422</td>\n",
       "      <td>74</td>\n",
       "      <td>0.0</td>\n",
       "    </tr>\n",
       "    <tr>\n",
       "      <th>906903</th>\n",
       "      <td>Q9UJW2</td>\n",
       "      <td>175</td>\n",
       "      <td>0.0</td>\n",
       "    </tr>\n",
       "    <tr>\n",
       "      <th>3197828</th>\n",
       "      <td>Q16280</td>\n",
       "      <td>379</td>\n",
       "      <td>0.0</td>\n",
       "    </tr>\n",
       "    <tr>\n",
       "      <th>2176002</th>\n",
       "      <td>Q8NFQ6</td>\n",
       "      <td>113</td>\n",
       "      <td>0.0</td>\n",
       "    </tr>\n",
       "    <tr>\n",
       "      <th>2551366</th>\n",
       "      <td>O15455</td>\n",
       "      <td>70</td>\n",
       "      <td>0.0</td>\n",
       "    </tr>\n",
       "  </tbody>\n",
       "</table>\n",
       "</div>"
      ],
      "text/plain": [
       "        proteins   aa  distance_to_feature\n",
       "0                                         \n",
       "262180    P16422   74                  0.0\n",
       "906903    Q9UJW2  175                  0.0\n",
       "3197828   Q16280  379                  0.0\n",
       "2176002   Q8NFQ6  113                  0.0\n",
       "2551366   O15455   70                  0.0"
      ]
     },
     "execution_count": 13,
     "metadata": {},
     "output_type": "execute_result"
    }
   ],
   "source": [
    "p_d.head()"
   ]
  },
  {
   "cell_type": "code",
   "execution_count": 14,
   "metadata": {
    "scrolled": true
   },
   "outputs": [
    {
     "data": {
      "text/html": [
       "<div>\n",
       "<style scoped>\n",
       "    .dataframe tbody tr th:only-of-type {\n",
       "        vertical-align: middle;\n",
       "    }\n",
       "\n",
       "    .dataframe tbody tr th {\n",
       "        vertical-align: top;\n",
       "    }\n",
       "\n",
       "    .dataframe thead th {\n",
       "        text-align: right;\n",
       "    }\n",
       "</style>\n",
       "<table border=\"1\" class=\"dataframe\">\n",
       "  <thead>\n",
       "    <tr style=\"text-align: right;\">\n",
       "      <th></th>\n",
       "      <th>aa</th>\n",
       "      <th>proteins</th>\n",
       "      <th>clinvar_path</th>\n",
       "      <th>aa_change</th>\n",
       "      <th>clinvar_index</th>\n",
       "      <th>SIFT_converted_rankscore</th>\n",
       "      <th>Polyphen2_HDIV_rankscore</th>\n",
       "      <th>Polyphen2_HVAR_rankscore</th>\n",
       "      <th>LRT_converted_rankscore</th>\n",
       "      <th>MutationTaster_converted_rankscore</th>\n",
       "      <th>...</th>\n",
       "      <th>integrated_fitCons_score_rankscore</th>\n",
       "      <th>GM12878_fitCons_score_rankscore</th>\n",
       "      <th>H1-hESC_fitCons_score_rankscore</th>\n",
       "      <th>HUVEC_fitCons_score_rankscore</th>\n",
       "      <th>GERP++_RS_rankscore</th>\n",
       "      <th>phyloP100way_vertebrate_rankscore</th>\n",
       "      <th>phyloP20way_mammalian_rankscore</th>\n",
       "      <th>phastCons100way_vertebrate_rankscore</th>\n",
       "      <th>phastCons20way_mammalian_rankscore</th>\n",
       "      <th>SiPhy_29way_logOdds_rankscore</th>\n",
       "    </tr>\n",
       "  </thead>\n",
       "  <tbody>\n",
       "    <tr>\n",
       "      <th>0</th>\n",
       "      <td>201</td>\n",
       "      <td>Q9Y5U5</td>\n",
       "      <td>.</td>\n",
       "      <td>E=&gt;D</td>\n",
       "      <td>0</td>\n",
       "      <td>0.16119</td>\n",
       "      <td>0.13521</td>\n",
       "      <td>0.11238</td>\n",
       "      <td>.</td>\n",
       "      <td>0.81033</td>\n",
       "      <td>...</td>\n",
       "      <td>0.37169</td>\n",
       "      <td>0.55475</td>\n",
       "      <td>0.27661</td>\n",
       "      <td>0.37612</td>\n",
       "      <td>0.21098</td>\n",
       "      <td>0.11537</td>\n",
       "      <td>0.15898</td>\n",
       "      <td>0.06329</td>\n",
       "      <td>0.16931</td>\n",
       "      <td>0.22632</td>\n",
       "    </tr>\n",
       "    <tr>\n",
       "      <th>1</th>\n",
       "      <td>129</td>\n",
       "      <td>Q9Y5U5</td>\n",
       "      <td>.</td>\n",
       "      <td>E=&gt;D</td>\n",
       "      <td>0</td>\n",
       "      <td>0.16119</td>\n",
       "      <td>0.13521</td>\n",
       "      <td>0.11238</td>\n",
       "      <td>.</td>\n",
       "      <td>0.81033</td>\n",
       "      <td>...</td>\n",
       "      <td>0.37169</td>\n",
       "      <td>0.55475</td>\n",
       "      <td>0.27661</td>\n",
       "      <td>0.37612</td>\n",
       "      <td>0.21098</td>\n",
       "      <td>0.11537</td>\n",
       "      <td>0.15898</td>\n",
       "      <td>0.06329</td>\n",
       "      <td>0.16931</td>\n",
       "      <td>0.22632</td>\n",
       "    </tr>\n",
       "    <tr>\n",
       "      <th>2</th>\n",
       "      <td>201</td>\n",
       "      <td>Q9Y5U5</td>\n",
       "      <td>.</td>\n",
       "      <td>E=&gt;V</td>\n",
       "      <td>2</td>\n",
       "      <td>0.3164</td>\n",
       "      <td>0.51906</td>\n",
       "      <td>0.47406</td>\n",
       "      <td>.</td>\n",
       "      <td>0.81033</td>\n",
       "      <td>...</td>\n",
       "      <td>0.37169</td>\n",
       "      <td>0.55475</td>\n",
       "      <td>0.27661</td>\n",
       "      <td>0.37612</td>\n",
       "      <td>0.19134</td>\n",
       "      <td>0.09480</td>\n",
       "      <td>0.21895</td>\n",
       "      <td>0.06329</td>\n",
       "      <td>0.16870</td>\n",
       "      <td>0.16314</td>\n",
       "    </tr>\n",
       "    <tr>\n",
       "      <th>3</th>\n",
       "      <td>129</td>\n",
       "      <td>Q9Y5U5</td>\n",
       "      <td>.</td>\n",
       "      <td>E=&gt;V</td>\n",
       "      <td>2</td>\n",
       "      <td>0.3164</td>\n",
       "      <td>0.51906</td>\n",
       "      <td>0.47406</td>\n",
       "      <td>.</td>\n",
       "      <td>0.81033</td>\n",
       "      <td>...</td>\n",
       "      <td>0.37169</td>\n",
       "      <td>0.55475</td>\n",
       "      <td>0.27661</td>\n",
       "      <td>0.37612</td>\n",
       "      <td>0.19134</td>\n",
       "      <td>0.09480</td>\n",
       "      <td>0.21895</td>\n",
       "      <td>0.06329</td>\n",
       "      <td>0.16870</td>\n",
       "      <td>0.16314</td>\n",
       "    </tr>\n",
       "    <tr>\n",
       "      <th>4</th>\n",
       "      <td>201</td>\n",
       "      <td>Q9Y5U5</td>\n",
       "      <td>.</td>\n",
       "      <td>E=&gt;G</td>\n",
       "      <td>3</td>\n",
       "      <td>0.17853</td>\n",
       "      <td>0.06737</td>\n",
       "      <td>0.07978</td>\n",
       "      <td>.</td>\n",
       "      <td>0.81033</td>\n",
       "      <td>...</td>\n",
       "      <td>0.37169</td>\n",
       "      <td>0.55475</td>\n",
       "      <td>0.27661</td>\n",
       "      <td>0.37612</td>\n",
       "      <td>0.19134</td>\n",
       "      <td>0.09480</td>\n",
       "      <td>0.21895</td>\n",
       "      <td>0.06329</td>\n",
       "      <td>0.16870</td>\n",
       "      <td>0.16314</td>\n",
       "    </tr>\n",
       "  </tbody>\n",
       "</table>\n",
       "<p>5 rows × 32 columns</p>\n",
       "</div>"
      ],
      "text/plain": [
       "    aa proteins clinvar_path aa_change  clinvar_index  \\\n",
       "0  201   Q9Y5U5            .      E=>D              0   \n",
       "1  129   Q9Y5U5            .      E=>D              0   \n",
       "2  201   Q9Y5U5            .      E=>V              2   \n",
       "3  129   Q9Y5U5            .      E=>V              2   \n",
       "4  201   Q9Y5U5            .      E=>G              3   \n",
       "\n",
       "  SIFT_converted_rankscore Polyphen2_HDIV_rankscore Polyphen2_HVAR_rankscore  \\\n",
       "0                  0.16119                  0.13521                  0.11238   \n",
       "1                  0.16119                  0.13521                  0.11238   \n",
       "2                   0.3164                  0.51906                  0.47406   \n",
       "3                   0.3164                  0.51906                  0.47406   \n",
       "4                  0.17853                  0.06737                  0.07978   \n",
       "\n",
       "  LRT_converted_rankscore MutationTaster_converted_rankscore  ...  \\\n",
       "0                       .                            0.81033  ...   \n",
       "1                       .                            0.81033  ...   \n",
       "2                       .                            0.81033  ...   \n",
       "3                       .                            0.81033  ...   \n",
       "4                       .                            0.81033  ...   \n",
       "\n",
       "  integrated_fitCons_score_rankscore GM12878_fitCons_score_rankscore  \\\n",
       "0                            0.37169                         0.55475   \n",
       "1                            0.37169                         0.55475   \n",
       "2                            0.37169                         0.55475   \n",
       "3                            0.37169                         0.55475   \n",
       "4                            0.37169                         0.55475   \n",
       "\n",
       "  H1-hESC_fitCons_score_rankscore HUVEC_fitCons_score_rankscore  \\\n",
       "0                         0.27661                       0.37612   \n",
       "1                         0.27661                       0.37612   \n",
       "2                         0.27661                       0.37612   \n",
       "3                         0.27661                       0.37612   \n",
       "4                         0.27661                       0.37612   \n",
       "\n",
       "  GERP++_RS_rankscore phyloP100way_vertebrate_rankscore  \\\n",
       "0             0.21098                           0.11537   \n",
       "1             0.21098                           0.11537   \n",
       "2             0.19134                           0.09480   \n",
       "3             0.19134                           0.09480   \n",
       "4             0.19134                           0.09480   \n",
       "\n",
       "   phyloP20way_mammalian_rankscore  phastCons100way_vertebrate_rankscore  \\\n",
       "0                          0.15898                               0.06329   \n",
       "1                          0.15898                               0.06329   \n",
       "2                          0.21895                               0.06329   \n",
       "3                          0.21895                               0.06329   \n",
       "4                          0.21895                               0.06329   \n",
       "\n",
       "  phastCons20way_mammalian_rankscore SiPhy_29way_logOdds_rankscore  \n",
       "0                            0.16931                       0.22632  \n",
       "1                            0.16931                       0.22632  \n",
       "2                            0.16870                       0.16314  \n",
       "3                            0.16870                       0.16314  \n",
       "4                            0.16870                       0.16314  \n",
       "\n",
       "[5 rows x 32 columns]"
      ]
     },
     "execution_count": 14,
     "metadata": {},
     "output_type": "execute_result"
    }
   ],
   "source": [
    "flat_db.head()"
   ]
  },
  {
   "cell_type": "code",
   "execution_count": 15,
   "metadata": {
    "scrolled": true
   },
   "outputs": [],
   "source": [
    "merged = flat_db.merge(p_d,on=['aa','proteins'],how='outer')"
   ]
  },
  {
   "cell_type": "code",
   "execution_count": 16,
   "metadata": {
    "scrolled": true
   },
   "outputs": [
    {
     "name": "stdout",
     "output_type": "stream",
     "text": [
      "(21841733, 33)\n"
     ]
    }
   ],
   "source": [
    "print(merged.shape)"
   ]
  },
  {
   "cell_type": "markdown",
   "metadata": {},
   "source": [
    "# Dropping any variants that are not in glycosylated proteins"
   ]
  },
  {
   "cell_type": "code",
   "execution_count": 17,
   "metadata": {},
   "outputs": [],
   "source": [
    "g_proteins = list(p_d['proteins'].unique())"
   ]
  },
  {
   "cell_type": "code",
   "execution_count": 18,
   "metadata": {},
   "outputs": [
    {
     "name": "stdout",
     "output_type": "stream",
     "text": [
      "(9161749, 33)\n"
     ]
    }
   ],
   "source": [
    "merged = merged[merged['proteins'].isin(g_proteins)]\n",
    "print(merged.shape)"
   ]
  },
  {
   "cell_type": "markdown",
   "metadata": {},
   "source": [
    "# Dealing with variants that do not have a distance to glycosylation site\n",
    "Need to be minful here: can either filter these, add psudo distance or keep as background\n"
   ]
  },
  {
   "cell_type": "code",
   "execution_count": 19,
   "metadata": {
    "scrolled": true
   },
   "outputs": [
    {
     "name": "stdout",
     "output_type": "stream",
     "text": [
      "(9161749, 33)\n",
      "(7860706, 33)\n"
     ]
    }
   ],
   "source": [
    "## Dropping NAs\n",
    "print(merged.shape)\n",
    "merged = merged[~merged['distance_to_feature'].isna()]\n",
    "print(merged.shape)"
   ]
  },
  {
   "cell_type": "markdown",
   "metadata": {},
   "source": [
    "## Filtering sites where distance to feature == 0, which is presumably the glycosylation site"
   ]
  },
  {
   "cell_type": "code",
   "execution_count": 20,
   "metadata": {},
   "outputs": [
    {
     "data": {
      "text/plain": [
       "(7785647, 33)"
      ]
     },
     "execution_count": 20,
     "metadata": {},
     "output_type": "execute_result"
    }
   ],
   "source": [
    "merged = merged[merged['distance_to_feature'] != 0]\n",
    "merged.shape"
   ]
  },
  {
   "cell_type": "markdown",
   "metadata": {},
   "source": [
    "## Dropping duplicates that have same aa, aapos and , keeping closest to glycosite"
   ]
  },
  {
   "cell_type": "code",
   "execution_count": 21,
   "metadata": {},
   "outputs": [],
   "source": [
    "merged = merged.sort_values(by='distance_to_feature',ascending=True).drop_duplicates(subset=['aa','proteins','aa_change'],keep='first')"
   ]
  },
  {
   "cell_type": "code",
   "execution_count": 22,
   "metadata": {},
   "outputs": [
    {
     "name": "stdout",
     "output_type": "stream",
     "text": [
      "(7785647, 33)\n"
     ]
    }
   ],
   "source": [
    "print(merged.shape)"
   ]
  },
  {
   "cell_type": "markdown",
   "metadata": {},
   "source": [
    "## Dropping variants that don't have at least 4 scores"
   ]
  },
  {
   "cell_type": "code",
   "execution_count": 23,
   "metadata": {},
   "outputs": [
    {
     "name": "stdout",
     "output_type": "stream",
     "text": [
      "(7735889, 33)\n"
     ]
    }
   ],
   "source": [
    "merged = merged.dropna(subset=software,thresh=3)\n",
    "print(merged.shape)"
   ]
  },
  {
   "cell_type": "code",
   "execution_count": 24,
   "metadata": {},
   "outputs": [
    {
     "data": {
      "text/plain": [
       "(7735889, 33)"
      ]
     },
     "execution_count": 24,
     "metadata": {},
     "output_type": "execute_result"
    }
   ],
   "source": [
    "merged.shape"
   ]
  },
  {
   "cell_type": "markdown",
   "metadata": {},
   "source": [
    "## Adding in glycoimpact score"
   ]
  },
  {
   "cell_type": "code",
   "execution_count": 25,
   "metadata": {},
   "outputs": [],
   "source": [
    "gi = pd.read_csv('../data/glyco_protein_impact_within_6.csv')"
   ]
  },
  {
   "cell_type": "code",
   "execution_count": 26,
   "metadata": {
    "scrolled": true
   },
   "outputs": [],
   "source": [
    "gi['aa_change'] = gi['substitution']"
   ]
  },
  {
   "cell_type": "code",
   "execution_count": 27,
   "metadata": {
    "scrolled": true
   },
   "outputs": [],
   "source": [
    "merged = merged.merge(gi,on='aa_change',how='outer').dropna(subset=['aa'])"
   ]
  },
  {
   "cell_type": "code",
   "execution_count": 28,
   "metadata": {},
   "outputs": [],
   "source": [
    "merged.to_csv('../data/glycoproteins_distances_with_pathsoftware.txt',sep='\\t')"
   ]
  },
  {
   "cell_type": "code",
   "execution_count": null,
   "metadata": {},
   "outputs": [],
   "source": []
  }
 ],
 "metadata": {
  "kernelspec": {
   "display_name": "Python 3",
   "language": "python",
   "name": "python3"
  },
  "language_info": {
   "codemirror_mode": {
    "name": "ipython",
    "version": 3
   },
   "file_extension": ".py",
   "mimetype": "text/x-python",
   "name": "python",
   "nbconvert_exporter": "python",
   "pygments_lexer": "ipython3",
   "version": "3.7.4"
  }
 },
 "nbformat": 4,
 "nbformat_minor": 4
}
