{
 "cells": [
  {
   "cell_type": "code",
   "execution_count": 1,
   "metadata": {},
   "outputs": [],
   "source": [
    "import numpy as np\n",
    "import pandas as pd"
   ]
  },
  {
   "cell_type": "markdown",
   "metadata": {},
   "source": [
    "## Reading in dbNSFP filtered for just entries that contain clinvar"
   ]
  },
  {
   "cell_type": "code",
   "execution_count": 2,
   "metadata": {},
   "outputs": [
    {
     "name": "stderr",
     "output_type": "stream",
     "text": [
      "/Users/d/work/conda/lib/python3.7/site-packages/IPython/core/interactiveshell.py:3051: DtypeWarning: Columns (0,7,8,9,10,66,67,68,69,70,71,72,78,79,80,81,82,83,84,85,86,87,88,89,90,91,92,93,94,95,96,106,107) have mixed types. Specify dtype option on import or set low_memory=False.\n",
      "  interactivity=interactivity, compiler=compiler, result=result)\n"
     ]
    },
    {
     "name": "stdout",
     "output_type": "stream",
     "text": [
      "(38465, 183)\n"
     ]
    }
   ],
   "source": [
    "db = pd.read_csv('../data/dbNSFP3.2.clinvar.genes.txt',sep='\\t')\n",
    "print(db.shape)"
   ]
  },
  {
   "cell_type": "markdown",
   "metadata": {},
   "source": [
    "## Clinvar clinical significance encoding from here:\n",
    "https://www.ncbi.nlm.nih.gov/clinvar/docs/clinsig/"
   ]
  },
  {
   "cell_type": "markdown",
   "metadata": {},
   "source": [
    "## These are all the unique pathogenicity scores "
   ]
  },
  {
   "cell_type": "code",
   "execution_count": 3,
   "metadata": {},
   "outputs": [
    {
     "data": {
      "text/plain": [
       "array(['5', '3', '2', '5|5|5|5|5|5|5', '5|5', '4', '3|2', '5|2', '2|2',\n",
       "       '5|4|4', '5|5|5|5', '5|3', '5|5|5|5|5', '5|2|2|2|2|2', '5|4|5',\n",
       "       '4|5', '3|3|3', '5|5|5', '5|2|2|2|2', '5|5|5|4', '5|4', '2|2|2',\n",
       "       '2|3|2|3', '3|3', '2|2|2|2', '5|5|4|4', '4|4|4|4|4|4', '2|3',\n",
       "       '5|5|2', '5|2|2', '4|4', '-5', '4|4|4', '5|5|5|5|5|5', '5|5|5|5|2',\n",
       "       '5|5|5|5|5|5|5|5', '5|5|5|5|5|5|5|5|5', '4|4|5', '4|5|4', '5|5|4',\n",
       "       '3|5', '5|5|2|2', '4|4|4|4|4|4|4', '3|4', '5|5|3', '5|3|4',\n",
       "       '2|2|2|3|2|2|2', '5|3|5', '5|5|5|2|3|3', '2|2|3', '3|5|3|4',\n",
       "       '5|3|3', '5|2|5', '3|2|3', '6', '6|6', '6|6|6|6|6', '3|2|2',\n",
       "       '4|5|5', '4|3|5|4', '2|4', '2|5', '5|4|5|5', '6|2|2', '4|3|3',\n",
       "       '3|2|3|2|2', '4|4|4|4|4', '4|5|4|5', '4|3', '5|5|3|3|3', '3|3|3|3',\n",
       "       '2|3|3|2', '3|3|2', '2|3|2', '5|3|2|2', '5|5|5|5|2|2|2|2|2|2|2',\n",
       "       '5|5|5|2|5|2|2|2|2', '5|4|4|4|4', '3|2|2|2', '3|3|3|2', '5|2|3',\n",
       "       '2|3|2|2', '2|2|2|2|2', '2|2|3|2|2', '3|3|2|3', '3|2|2|3|2',\n",
       "       '2|3|2|2|2', '3|2|2|3|3', '3|2|3|2|3', '2|2|3|2|2|3', '2|2|3|2|3',\n",
       "       '2|3|3', '3|2|2|3', '2|2|3|2', '3|2|3|3', '2|3|3|2|2', '3|2|3|2',\n",
       "       '2|2|3|3|2|3', '2|2|3|3|2', '2|3|2|2|2|3', '2|2|2|2|3',\n",
       "       '2|2|2|2|2|2|2', '2|2|2|2|2|3', '2|2|2|3|2', '2|3|2|3|2',\n",
       "       '3|2|2|2|2', '3|2|2|3|2|2', '2|2|2|2|2|2', '2|3|3|2|3', '2|3|3|3',\n",
       "       '5|3|4|4', '5|4|4|5', '5|4|5|4', '4|5|5|4', '3|3|4', '5|4|4|4',\n",
       "       '4|4|4|4', '4|4|4|4|4|4|4|4', '4|5|5|5', '4|4|5|4', '3|3|3|3|3',\n",
       "       '5|2|2|2', '5|5|5|4|4|4|5', '3|2|2|3|3|2|2', '2|2|3|3|2|2',\n",
       "       '2|2|2|2|2|2|3', '2|2|2|3|2|2', '3|3|2|2', '2|5|5', '4|4|4|5',\n",
       "       '5|3|2', '5|3|5|5', '6|5', '6|6|5|5', '4|2', '5|5|5|4|5',\n",
       "       '5|5|5|3', '5|5|4|5', '5|2|2|3|2', '5|5|2|3', '-5|-5', '5|3|3|2',\n",
       "       '3|2|2|3|3|2', '2|2|3|3|3|3|3', '5|4|4|3', '4|3|3|3|3',\n",
       "       '5|5|4|4|4|4|4|4', '5|5|5|5|5|5|5|5|5|5', '4|4|4|4|5',\n",
       "       '5|5|5|5|5|2|2|5|3|2', '5|5|5|5|4|4|5', '2|3|2|2|3', '4|6', '6|4',\n",
       "       '6|6|6', '4|4|4|4|4|5', '2|2|2|3', '2|2|5', '5|5|5|5|4', '-6',\n",
       "       '5|3|3|3', '3|3|5', '2|2|2|5|5', '4|4|4|4|4|4|4|4|4', '3|4|4'],\n",
       "      dtype=object)"
      ]
     },
     "execution_count": 3,
     "metadata": {},
     "output_type": "execute_result"
    }
   ],
   "source": [
    "db['clinvar_clnsig'].unique()"
   ]
  },
  {
   "cell_type": "code",
   "execution_count": 4,
   "metadata": {},
   "outputs": [
    {
     "data": {
      "text/plain": [
       "(12, 183)"
      ]
     },
     "execution_count": 4,
     "metadata": {},
     "output_type": "execute_result"
    }
   ],
   "source": [
    "db[db['clinvar_clnsig'].str.contains('-')].shape"
   ]
  },
  {
   "cell_type": "markdown",
   "metadata": {},
   "source": [
    "# How I plan to clean up the clinvar significance values!\n",
    "### Multiple variants\n",
    "- Since we can only interpret 2,3,4,5 I will remove variants with any other scores. \n",
    "- I will pick the most common values if there is one.\n",
    "- If there is not I will pick the most deleterious one.\n",
    "\n",
    "### Negative values\n",
    "\n",
    "There are several values with negative values for the significance, doing some digging, the negatives mean the\n",
    "the score is for the ref allele. \n",
    "\n",
    "- Drop these values for this analysis since it is only 12 variants"
   ]
  },
  {
   "cell_type": "code",
   "execution_count": 5,
   "metadata": {},
   "outputs": [],
   "source": [
    "from statistics import mode"
   ]
  },
  {
   "cell_type": "code",
   "execution_count": 6,
   "metadata": {
    "scrolled": true
   },
   "outputs": [],
   "source": [
    "clean_sigs = []\n",
    "\n",
    "for c in db['clinvar_clnsig']:\n",
    "    \n",
    "    if '-' in c:\n",
    "        clean_sigs.append(np.nan)\n",
    "        continue\n",
    "        \n",
    "    sigs = list(map(int,c.split('|')))\n",
    "    clean_sig = [s for s in sigs if s in [2,3,4,5] ]\n",
    "    \n",
    "    if len(clean_sig) == 0:\n",
    "        clean_sigs.append(np.nan)\n",
    "        continue\n",
    "    \n",
    "    try:\n",
    "        sig = mode(clean_sig)\n",
    "    except:\n",
    "        sig = max(clean_sig)\n",
    "\n",
    "    clean_sigs.append(sig)\n",
    "db['clean_clinvar_clnsig'] = clean_sigs "
   ]
  },
  {
   "cell_type": "code",
   "execution_count": 7,
   "metadata": {},
   "outputs": [],
   "source": [
    "path_dct = {2:'benign',\n",
    "            3:'likely benign',\n",
    "            4:'likely pathogenic',\n",
    "            5:'pathogenic'}\n",
    "\n",
    "db['clinvar_pathogenic'] = [path_dct[d] if d in path_dct.keys() else np.nan for d in db['clean_clinvar_clnsig']]"
   ]
  },
  {
   "cell_type": "code",
   "execution_count": 8,
   "metadata": {},
   "outputs": [
    {
     "name": "stdout",
     "output_type": "stream",
     "text": [
      "(38465, 185)\n",
      "Filtering for just benign or pathogenic variants\n",
      "(38405, 185)\n"
     ]
    }
   ],
   "source": [
    "print(db.shape)\n",
    "print('Filtering for just benign or pathogenic variants')\n",
    "db = db[~db['clinvar_pathogenic'].isnull()]\n",
    "db = db.reset_index(drop=True)\n",
    "print(db.shape)"
   ]
  },
  {
   "cell_type": "code",
   "execution_count": 9,
   "metadata": {},
   "outputs": [],
   "source": [
    "db.to_csv('../data/dbNSFP3.2.clinvar_clean.txt',\n",
    "          sep='\\t')"
   ]
  },
  {
   "cell_type": "markdown",
   "metadata": {},
   "source": [
    "## Create table for just proteins with glycosylation sites"
   ]
  },
  {
   "cell_type": "code",
   "execution_count": 10,
   "metadata": {},
   "outputs": [],
   "source": [
    "p_and_aa = pd.read_csv('../data/protein_and_aa.txt',\n",
    "                       sep='\\t',\n",
    "                       header=None)"
   ]
  },
  {
   "cell_type": "code",
   "execution_count": 11,
   "metadata": {
    "scrolled": true
   },
   "outputs": [],
   "source": [
    "ps = set(p_and_aa[0].to_list())\n",
    "ix_good = []\n",
    "db_prots = db['Uniprot_acc_Polyphen2']\n",
    "for i in db_prots.index:\n",
    "    for p in db_prots[i].split(';'):\n",
    "        if p in ps:\n",
    "            ix_good.append(i)"
   ]
  },
  {
   "cell_type": "code",
   "execution_count": 12,
   "metadata": {},
   "outputs": [
    {
     "name": "stdout",
     "output_type": "stream",
     "text": [
      "Just clinvar variants in proteins with glycosylation sites\n",
      "(5795, 185)\n",
      "(5739, 185)\n"
     ]
    }
   ],
   "source": [
    "print('Just clinvar variants in proteins with glycosylation sites')\n",
    "db_f = db.loc[ix_good]\n",
    "print(db_f.shape)\n",
    "db_f = db_f.drop_duplicates()\n",
    "print(db_f.shape)"
   ]
  },
  {
   "cell_type": "markdown",
   "metadata": {},
   "source": [
    "## Add column to indicate whether they are near a glycosylation site"
   ]
  },
  {
   "cell_type": "code",
   "execution_count": 13,
   "metadata": {},
   "outputs": [],
   "source": [
    "j_and_aa_dict = {p:list(p_and_aa[p_and_aa[0] == p][1]) for p in p_and_aa[0].unique()}"
   ]
  },
  {
   "cell_type": "code",
   "execution_count": 14,
   "metadata": {},
   "outputs": [],
   "source": [
    "match_index = []\n",
    "for i in db_f.index:\n",
    "    one_var = db_f.loc[i]\n",
    "    proteins = one_var['Uniprot_acc_Polyphen2']\n",
    "    aaposs = one_var['aapos']\n",
    "    for prot in proteins.split(';'):\n",
    "        if prot in j_and_aa_dict.keys():\n",
    "            aas = j_and_aa_dict[prot]\n",
    "            for aa in map(int,aaposs.split(';')):\n",
    "                if aa in aas:\n",
    "                    match_index.append(i)"
   ]
  },
  {
   "cell_type": "code",
   "execution_count": 15,
   "metadata": {},
   "outputs": [],
   "source": [
    "db_f['glycosite_proximal'] = [True if i in match_index else False for i in db_f.index]"
   ]
  },
  {
   "cell_type": "code",
   "execution_count": 16,
   "metadata": {},
   "outputs": [],
   "source": [
    "db_f.to_csv('../data/clinvar_glycoproteins.txt',sep='\\t')"
   ]
  },
  {
   "cell_type": "code",
   "execution_count": null,
   "metadata": {},
   "outputs": [],
   "source": []
  }
 ],
 "metadata": {
  "kernelspec": {
   "display_name": "Python 3",
   "language": "python",
   "name": "python3"
  },
  "language_info": {
   "codemirror_mode": {
    "name": "ipython",
    "version": 3
   },
   "file_extension": ".py",
   "mimetype": "text/x-python",
   "name": "python",
   "nbconvert_exporter": "python",
   "pygments_lexer": "ipython3",
   "version": "3.7.4"
  }
 },
 "nbformat": 4,
 "nbformat_minor": 4
}
